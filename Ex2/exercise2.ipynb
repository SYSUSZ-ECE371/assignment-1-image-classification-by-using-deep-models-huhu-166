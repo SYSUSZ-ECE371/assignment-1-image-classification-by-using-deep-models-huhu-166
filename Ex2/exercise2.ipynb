{
 "cells": [
  {
   "cell_type": "markdown",
   "id": "69ba1182",
   "metadata": {},
   "source": [
    "# Import Required Libraries\n",
    "Import PyTorch, torchvision, and other necessary libraries."
   ]
  },
  {
   "cell_type": "code",
   "execution_count": 89,
   "id": "a46ecdd8",
   "metadata": {},
   "outputs": [],
   "source": [
    "# Import Required Libraries\n",
    "import torch\n",
    "import torch.nn as nn\n",
    "import torch.optim as optim\n",
    "from torch.optim import lr_scheduler\n",
    "from torchvision import datasets, transforms, models\n",
    "from torch.utils.data import random_split\n",
    "import os\n",
    "import time\n",
    "import copy\n"
   ]
  },
  {
   "cell_type": "markdown",
   "id": "b587dfc9",
   "metadata": {},
   "source": [
    "# Set Data Directory\n",
    "Define the directory path for the dataset."
   ]
  },
  {
   "cell_type": "code",
   "execution_count": 90,
   "id": "737e5240",
   "metadata": {},
   "outputs": [],
   "source": [
    "# Set data directory\n",
    "data_dir = 'D:\\\\neuralnetwork\\\\Ex2\\\\flower_dataset'"
   ]
  },
  {
   "cell_type": "markdown",
   "id": "77e500bc",
   "metadata": {},
   "source": [
    "# Data Augmentation and Normalization\n",
    "Apply data augmentation techniques and normalize the dataset using torchvision.transforms."
   ]
  },
  {
   "cell_type": "code",
   "execution_count": 91,
   "id": "69cc637a",
   "metadata": {},
   "outputs": [],
   "source": [
    "# Data augmentation and normalization for training and validation\n",
    "data_transforms1 = transforms.Compose([\n",
    "        # GRADED FUNCTION: Add five data augmentation methods, Normalizating and Transform to tensor\n",
    "        ### START SOLUTION HERE ###\n",
    "        # Add five data augmentation methods, Normalizating and Transform to tensor\n",
    "        transforms.RandomRotation(45),\n",
    "        transforms.CenterCrop(448),\n",
    "        transforms.RandomHorizontalFlip(p=0.5),      \n",
    "        transforms.RandomVerticalFlip(p=0.5),\n",
    "        #transforms.ColorJitter(brightness=0.2, contrast=0.2, saturation=0.2, hue=0.1),\n",
    "        transforms.ToTensor(),\n",
    "        transforms.Resize(224, antialias=True),\n",
    "        transforms.Normalize(mean=[0.485, 0.456, 0.406], std=[0.229, 0.224, 0.225])\n",
    "        ### END SOLUTION HERE ###\n",
    "        \n",
    "])\n",
    "data_transforms2 = transforms.Compose([\n",
    "        # GRADED FUNCTION: Add five data augmentation methods, Normalizating and Transform to tensor\n",
    "        ### START SOLUTION HERE ###\n",
    "        # Add five data augmentation methods, Normalizating and Transform to tensor\n",
    "        transforms.CenterCrop(224),\n",
    "        transforms.ToTensor(),\n",
    "        transforms.Normalize(mean=[0.485, 0.456, 0.406], std=[0.229, 0.224, 0.225])\n",
    "        ### END SOLUTION HERE ###\n",
    "])"
   ]
  },
  {
   "cell_type": "markdown",
   "id": "ac76f567",
   "metadata": {},
   "source": [
    "# Load Dataset and Split\n",
    "Load the dataset using ImageFolder and split it into training and validation sets."
   ]
  },
  {
   "cell_type": "code",
   "execution_count": 92,
   "id": "d22ee353",
   "metadata": {},
   "outputs": [],
   "source": [
    "# Load the entire dataset\n",
    "full_dataset = datasets.ImageFolder(data_dir)\n",
    "\n",
    "# Automatically split into 80% train and 20% validation\n",
    "train_size = int(0.8 * len(full_dataset))\n",
    "val_size = len(full_dataset) - train_size\n",
    "\n",
    "train_dataset, val_dataset = random_split(full_dataset, [train_size, val_size])\n",
    "train_dataset.dataset.transform = data_transforms1\n",
    "val_dataset.dataset.transform = data_transforms2\n"
   ]
  },
  {
   "cell_type": "markdown",
   "id": "84fbd1b4",
   "metadata": {},
   "source": [
    "# Prepare DataLoaders\n",
    "Use DataLoader to prepare the training and validation datasets for model training."
   ]
  },
  {
   "cell_type": "code",
   "execution_count": 93,
   "id": "5a37a327",
   "metadata": {},
   "outputs": [],
   "source": [
    "# Use DataLoader for both train and validation datasets\n",
    "batch_size = 32\n",
    "train_loader = torch.utils.data.DataLoader(train_dataset, batch_size=batch_size, shuffle=True, num_workers=4)\n",
    "val_loader = torch.utils.data.DataLoader(val_dataset, batch_size=batch_size, shuffle=True, num_workers=4)\n",
    "\n",
    "dataloaders = {'train': train_loader, 'val': val_loader}\n",
    "dataset_sizes = {'train': len(train_dataset), 'val': len(val_dataset)}\n",
    "\n",
    "# Get class names from the dataset\n",
    "class_names = full_dataset.classes"
   ]
  },
  {
   "cell_type": "markdown",
   "id": "55bcae7a",
   "metadata": {},
   "source": [
    "# Load Pre-trained Model\n",
    "Load a pre-trained ResNet-18 model using torchvision.models."
   ]
  },
  {
   "cell_type": "code",
   "execution_count": 94,
   "id": "41de36a4",
   "metadata": {},
   "outputs": [],
   "source": [
    "# Load pre-trained model and modify the last layer\n",
    "model = models.resnet18(pretrained=True)"
   ]
  },
  {
   "cell_type": "markdown",
   "id": "f054e037",
   "metadata": {},
   "source": [
    "# Modify Model's Last Layer\n",
    "Modify the last fully connected layer of the model to match the number of classes in the dataset."
   ]
  },
  {
   "cell_type": "code",
   "execution_count": 95,
   "id": "075a98ab",
   "metadata": {},
   "outputs": [],
   "source": [
    "# GRADED FUNCTION: Modify the last fully connected layer of model\n",
    "### START SOLUTION HERE ###\n",
    "# Modify the last fully connected layer of model\n",
    "\n",
    "num_ftrs = model.fc.in_features\n",
    "model.fc = nn.Linear(num_ftrs, len(class_names))\n",
    "\n",
    "### END SOLUTION HERE ###"
   ]
  },
  {
   "cell_type": "markdown",
   "id": "38315d86",
   "metadata": {},
   "source": [
    "# Define Loss Function\n",
    "Define the loss function to be used for training the model."
   ]
  },
  {
   "cell_type": "code",
   "execution_count": 96,
   "id": "85401e3d",
   "metadata": {},
   "outputs": [],
   "source": [
    "# GRADED FUNCTION: Define the loss function\n",
    "### START SOLUTION HERE ###\n",
    "# Define the loss function\n",
    "criterion = nn.CrossEntropyLoss()\n",
    "### END SOLUTION HERE ###"
   ]
  },
  {
   "cell_type": "markdown",
   "id": "1ef6b9f1",
   "metadata": {},
   "source": [
    "# Define Optimizer\n",
    "Define the optimizer to update the model's weights during training."
   ]
  },
  {
   "cell_type": "code",
   "execution_count": 97,
   "id": "484075f9",
   "metadata": {},
   "outputs": [],
   "source": [
    "# GRADED FUNCTION: Define the optimizer\n",
    "### START SOLUTION HERE ###\n",
    "# Define the optimizer\n",
    "optimizer = optim.SGD(model.parameters(), lr=0.001, weight_decay=5e-4,momentum=0.9, nesterov=True)\n",
    "### END SOLUTION HERE ###"
   ]
  },
  {
   "cell_type": "markdown",
   "id": "83ad2bae",
   "metadata": {},
   "source": [
    "# Define Learning Rate Scheduler\n",
    "Set up a learning rate scheduler to adjust the learning rate during training."
   ]
  },
  {
   "cell_type": "code",
   "execution_count": 98,
   "id": "b891cf21",
   "metadata": {},
   "outputs": [],
   "source": [
    "# Learning rate scheduler\n",
    "scheduler = lr_scheduler.StepLR(optimizer, step_size=7, gamma=0.1)"
   ]
  },
  {
   "cell_type": "markdown",
   "id": "15f6c803",
   "metadata": {},
   "source": [
    "# Train the Model\n",
    "Implement the training loop, including forward and backward passes, and save the best model based on validation accuracy."
   ]
  },
  {
   "cell_type": "code",
   "execution_count": 99,
   "id": "b507f8fd",
   "metadata": {},
   "outputs": [
    {
     "name": "stdout",
     "output_type": "stream",
     "text": [
      "Using GPU: NVIDIA GeForce RTX 4060 Laptop GPU\n"
     ]
    },
    {
     "ename": "RuntimeError",
     "evalue": "CUDA error: unknown error\nCUDA kernel errors might be asynchronously reported at some other API call, so the stacktrace below might be incorrect.\nFor debugging consider passing CUDA_LAUNCH_BLOCKING=1\nCompile with `TORCH_USE_CUDA_DSA` to enable device-side assertions.\n",
     "output_type": "error",
     "traceback": [
      "\u001b[31m---------------------------------------------------------------------------\u001b[39m",
      "\u001b[31mRuntimeError\u001b[39m                              Traceback (most recent call last)",
      "\u001b[36mCell\u001b[39m\u001b[36m \u001b[39m\u001b[32mIn[99]\u001b[39m\u001b[32m, line 90\u001b[39m\n\u001b[32m     88\u001b[39m \u001b[38;5;28;01melse\u001b[39;00m:\n\u001b[32m     89\u001b[39m     \u001b[38;5;28mprint\u001b[39m(\u001b[33m\"\u001b[39m\u001b[33mUsing CPU\u001b[39m\u001b[33m\"\u001b[39m)\n\u001b[32m---> \u001b[39m\u001b[32m90\u001b[39m model = \u001b[43mmodel\u001b[49m\u001b[43m.\u001b[49m\u001b[43mto\u001b[49m\u001b[43m(\u001b[49m\u001b[43mdevice\u001b[49m\u001b[43m)\u001b[49m\n\u001b[32m     91\u001b[39m model = train_model(model, criterion, optimizer, scheduler, num_epochs=\u001b[32m25\u001b[39m)\n",
      "\u001b[36mFile \u001b[39m\u001b[32mc:\\Users\\ROG\\miniconda3\\Lib\\site-packages\\torch\\nn\\modules\\module.py:1343\u001b[39m, in \u001b[36mModule.to\u001b[39m\u001b[34m(self, *args, **kwargs)\u001b[39m\n\u001b[32m   1340\u001b[39m         \u001b[38;5;28;01melse\u001b[39;00m:\n\u001b[32m   1341\u001b[39m             \u001b[38;5;28;01mraise\u001b[39;00m\n\u001b[32m-> \u001b[39m\u001b[32m1343\u001b[39m \u001b[38;5;28;01mreturn\u001b[39;00m \u001b[38;5;28;43mself\u001b[39;49m\u001b[43m.\u001b[49m\u001b[43m_apply\u001b[49m\u001b[43m(\u001b[49m\u001b[43mconvert\u001b[49m\u001b[43m)\u001b[49m\n",
      "\u001b[36mFile \u001b[39m\u001b[32mc:\\Users\\ROG\\miniconda3\\Lib\\site-packages\\torch\\nn\\modules\\module.py:903\u001b[39m, in \u001b[36mModule._apply\u001b[39m\u001b[34m(self, fn, recurse)\u001b[39m\n\u001b[32m    901\u001b[39m \u001b[38;5;28;01mif\u001b[39;00m recurse:\n\u001b[32m    902\u001b[39m     \u001b[38;5;28;01mfor\u001b[39;00m module \u001b[38;5;129;01min\u001b[39;00m \u001b[38;5;28mself\u001b[39m.children():\n\u001b[32m--> \u001b[39m\u001b[32m903\u001b[39m         \u001b[43mmodule\u001b[49m\u001b[43m.\u001b[49m\u001b[43m_apply\u001b[49m\u001b[43m(\u001b[49m\u001b[43mfn\u001b[49m\u001b[43m)\u001b[49m\n\u001b[32m    905\u001b[39m \u001b[38;5;28;01mdef\u001b[39;00m \u001b[34mcompute_should_use_set_data\u001b[39m(tensor, tensor_applied):\n\u001b[32m    906\u001b[39m     \u001b[38;5;28;01mif\u001b[39;00m torch._has_compatible_shallow_copy_type(tensor, tensor_applied):\n\u001b[32m    907\u001b[39m         \u001b[38;5;66;03m# If the new tensor has compatible tensor type as the existing tensor,\u001b[39;00m\n\u001b[32m    908\u001b[39m         \u001b[38;5;66;03m# the current behavior is to change the tensor in-place using `.data =`,\u001b[39;00m\n\u001b[32m   (...)\u001b[39m\u001b[32m    913\u001b[39m         \u001b[38;5;66;03m# global flag to let the user control whether they want the future\u001b[39;00m\n\u001b[32m    914\u001b[39m         \u001b[38;5;66;03m# behavior of overwriting the existing tensor or not.\u001b[39;00m\n",
      "\u001b[36mFile \u001b[39m\u001b[32mc:\\Users\\ROG\\miniconda3\\Lib\\site-packages\\torch\\nn\\modules\\module.py:930\u001b[39m, in \u001b[36mModule._apply\u001b[39m\u001b[34m(self, fn, recurse)\u001b[39m\n\u001b[32m    926\u001b[39m \u001b[38;5;66;03m# Tensors stored in modules are graph leaves, and we don't want to\u001b[39;00m\n\u001b[32m    927\u001b[39m \u001b[38;5;66;03m# track autograd history of `param_applied`, so we have to use\u001b[39;00m\n\u001b[32m    928\u001b[39m \u001b[38;5;66;03m# `with torch.no_grad():`\u001b[39;00m\n\u001b[32m    929\u001b[39m \u001b[38;5;28;01mwith\u001b[39;00m torch.no_grad():\n\u001b[32m--> \u001b[39m\u001b[32m930\u001b[39m     param_applied = \u001b[43mfn\u001b[49m\u001b[43m(\u001b[49m\u001b[43mparam\u001b[49m\u001b[43m)\u001b[49m\n\u001b[32m    931\u001b[39m p_should_use_set_data = compute_should_use_set_data(param, param_applied)\n\u001b[32m    933\u001b[39m \u001b[38;5;66;03m# subclasses may have multiple child tensors so we need to use swap_tensors\u001b[39;00m\n",
      "\u001b[36mFile \u001b[39m\u001b[32mc:\\Users\\ROG\\miniconda3\\Lib\\site-packages\\torch\\nn\\modules\\module.py:1329\u001b[39m, in \u001b[36mModule.to.<locals>.convert\u001b[39m\u001b[34m(t)\u001b[39m\n\u001b[32m   1322\u001b[39m     \u001b[38;5;28;01mif\u001b[39;00m convert_to_format \u001b[38;5;129;01mis\u001b[39;00m \u001b[38;5;129;01mnot\u001b[39;00m \u001b[38;5;28;01mNone\u001b[39;00m \u001b[38;5;129;01mand\u001b[39;00m t.dim() \u001b[38;5;129;01min\u001b[39;00m (\u001b[32m4\u001b[39m, \u001b[32m5\u001b[39m):\n\u001b[32m   1323\u001b[39m         \u001b[38;5;28;01mreturn\u001b[39;00m t.to(\n\u001b[32m   1324\u001b[39m             device,\n\u001b[32m   1325\u001b[39m             dtype \u001b[38;5;28;01mif\u001b[39;00m t.is_floating_point() \u001b[38;5;129;01mor\u001b[39;00m t.is_complex() \u001b[38;5;28;01melse\u001b[39;00m \u001b[38;5;28;01mNone\u001b[39;00m,\n\u001b[32m   1326\u001b[39m             non_blocking,\n\u001b[32m   1327\u001b[39m             memory_format=convert_to_format,\n\u001b[32m   1328\u001b[39m         )\n\u001b[32m-> \u001b[39m\u001b[32m1329\u001b[39m     \u001b[38;5;28;01mreturn\u001b[39;00m \u001b[43mt\u001b[49m\u001b[43m.\u001b[49m\u001b[43mto\u001b[49m\u001b[43m(\u001b[49m\n\u001b[32m   1330\u001b[39m \u001b[43m        \u001b[49m\u001b[43mdevice\u001b[49m\u001b[43m,\u001b[49m\n\u001b[32m   1331\u001b[39m \u001b[43m        \u001b[49m\u001b[43mdtype\u001b[49m\u001b[43m \u001b[49m\u001b[38;5;28;43;01mif\u001b[39;49;00m\u001b[43m \u001b[49m\u001b[43mt\u001b[49m\u001b[43m.\u001b[49m\u001b[43mis_floating_point\u001b[49m\u001b[43m(\u001b[49m\u001b[43m)\u001b[49m\u001b[43m \u001b[49m\u001b[38;5;129;43;01mor\u001b[39;49;00m\u001b[43m \u001b[49m\u001b[43mt\u001b[49m\u001b[43m.\u001b[49m\u001b[43mis_complex\u001b[49m\u001b[43m(\u001b[49m\u001b[43m)\u001b[49m\u001b[43m \u001b[49m\u001b[38;5;28;43;01melse\u001b[39;49;00m\u001b[43m \u001b[49m\u001b[38;5;28;43;01mNone\u001b[39;49;00m\u001b[43m,\u001b[49m\n\u001b[32m   1332\u001b[39m \u001b[43m        \u001b[49m\u001b[43mnon_blocking\u001b[49m\u001b[43m,\u001b[49m\n\u001b[32m   1333\u001b[39m \u001b[43m    \u001b[49m\u001b[43m)\u001b[49m\n\u001b[32m   1334\u001b[39m \u001b[38;5;28;01mexcept\u001b[39;00m \u001b[38;5;167;01mNotImplementedError\u001b[39;00m \u001b[38;5;28;01mas\u001b[39;00m e:\n\u001b[32m   1335\u001b[39m     \u001b[38;5;28;01mif\u001b[39;00m \u001b[38;5;28mstr\u001b[39m(e) == \u001b[33m\"\u001b[39m\u001b[33mCannot copy out of meta tensor; no data!\u001b[39m\u001b[33m\"\u001b[39m:\n",
      "\u001b[31mRuntimeError\u001b[39m: CUDA error: unknown error\nCUDA kernel errors might be asynchronously reported at some other API call, so the stacktrace below might be incorrect.\nFor debugging consider passing CUDA_LAUNCH_BLOCKING=1\nCompile with `TORCH_USE_CUDA_DSA` to enable device-side assertions.\n"
     ]
    }
   ],
   "source": [
    "# Training function\n",
    "def train_model(model, criterion, optimizer, scheduler, num_epochs=25):\n",
    "    since = time.time()\n",
    "    best_model_wts = copy.deepcopy(model.state_dict())\n",
    "    best_acc = 0.0\n",
    "\n",
    "    device = torch.device(\"cuda:0\" if torch.cuda.is_available() else \"cpu\")\n",
    "    model = model.to(device)\n",
    "\n",
    "    for epoch in range(num_epochs):\n",
    "        print(f'Epoch {epoch}/{num_epochs - 1}')\n",
    "        print('-' * 10)\n",
    "\n",
    "        # Print learning rate for current epoch\n",
    "        current_lr = optimizer.param_groups[0]['lr']\n",
    "        print(f'Learning Rate: {current_lr:.6f}')\n",
    "\n",
    "        for phase in ['train', 'val']:\n",
    "            if phase == 'train':\n",
    "                model.train()  # Set model to training mode\n",
    "            else:\n",
    "                model.eval()  # Set model to evaluate mode\n",
    "\n",
    "            running_loss = 0.0\n",
    "            running_corrects = 0\n",
    "\n",
    "            # Iterate over data\n",
    "            for inputs, labels in dataloaders[phase]:\n",
    "                inputs = inputs.to(device)\n",
    "                labels = labels.to(device)\n",
    "\n",
    "                optimizer.zero_grad()\n",
    "\n",
    "                with torch.set_grad_enabled(phase == 'train'):\n",
    "                    outputs = model(inputs)\n",
    "                    _, preds = torch.max(outputs, 1)\n",
    "                    loss = criterion(outputs, labels)\n",
    "\n",
    "                    if phase == 'train':\n",
    "                        \n",
    "                        # GRADED FUNCTION: Backward pass and optimization\n",
    "                        ### START SOLUTION HERE ###\n",
    "                        # Backward pass and optimization\n",
    "                        \n",
    "                        loss.backward()\n",
    "                        optimizer.step()\n",
    "                        ### END SOLUTION HERE ###\n",
    "\n",
    "                running_loss += loss.item() * inputs.size(0)\n",
    "                running_corrects += torch.sum(preds == labels.data)\n",
    "\n",
    "            if phase == 'train':\n",
    "                scheduler.step()  # Update learning rate based on scheduler\n",
    "\n",
    "            epoch_loss = running_loss / dataset_sizes[phase]\n",
    "            epoch_acc = running_corrects.double() / dataset_sizes[phase]\n",
    "\n",
    "            print(f'{phase} Loss: {epoch_loss:.4f} Acc: {epoch_acc:.4f}')\n",
    "\n",
    "            # Save the model if validation accuracy is the best so far\n",
    "            if phase == 'val' and epoch_acc > best_acc:\n",
    "                best_acc = epoch_acc\n",
    "                best_model_wts = copy.deepcopy(model.state_dict())\n",
    "                # Save the best model\n",
    "                save_dir = 'D:\\\\neuralnetwork\\\\Ex2\\\\work_dir'\n",
    "                os.makedirs(save_dir, exist_ok=True)\n",
    "\n",
    "               # GRADED FUNCTION: Save the best model\n",
    "                ### START SOLUTION HERE ###\n",
    "                # Save the best model\n",
    "                torch.save(model.state_dict(), os.path.join(save_dir, 'best_model.pth'))\n",
    "                ### END SOLUTION HERE ###\n",
    "\n",
    "        print()\n",
    "\n",
    "    time_elapsed = time.time() - since\n",
    "    print(f'Training complete in {time_elapsed // 60:.0f}m {time_elapsed % 60:.0f}s')\n",
    "    print(f'Best val Acc: {best_acc:4f}')\n",
    "\n",
    "    model.load_state_dict(best_model_wts)\n",
    "    return model\n",
    "\n",
    "# Train the model\n",
    "device = torch.device(\"cuda:0\" if torch.cuda.is_available() else \"cpu\")\n",
    "# 打印设备信息\n",
    "if device.type == \"cuda\":\n",
    "    print(f\"Using GPU: {torch.cuda.get_device_name(0)}\")\n",
    "else:\n",
    "    print(\"Using CPU\")\n",
    "model = model.to(device)\n",
    "model = train_model(model, criterion, optimizer, scheduler, num_epochs=25)"
   ]
  }
 ],
 "metadata": {
  "kernelspec": {
   "display_name": "base",
   "language": "python",
   "name": "python3"
  },
  "language_info": {
   "codemirror_mode": {
    "name": "ipython",
    "version": 3
   },
   "file_extension": ".py",
   "mimetype": "text/x-python",
   "name": "python",
   "nbconvert_exporter": "python",
   "pygments_lexer": "ipython3",
   "version": "3.12.9"
  }
 },
 "nbformat": 4,
 "nbformat_minor": 5
}
